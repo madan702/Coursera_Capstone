{
 "cells": [
  {
   "cell_type": "markdown",
   "metadata": {},
   "source": [
    "# Introduction"
   ]
  },
  {
   "cell_type": "markdown",
   "metadata": {},
   "source": [
    "Houston is the most populous city in the state of Texas with an estimated population of 2.320,268 (2019). One of the largest problems facing the city is that of food deserts. \n",
    "\n",
    "Food deserts are areas that lack access to affordable fruits, vegetables, whole grains, low-fat milk, and other foods that make up the full range of a healthy diet. \n",
    "\n",
    "Individuals living in areas classified as food deserts are shown to have an increased risk of developing diabetes, cardiovascular disease, and being obese. While food deserts can be present in areas typically associated as having low income, they can be present in any area that causes an individual to not have easy access to an available grocery store, and overall, about 23.5 million Americans and a reported 250,000 individuals living in Houston lack easy access to grocery stores."
   ]
  },
  {
   "cell_type": "markdown",
   "metadata": {},
   "source": [
    "# Description of Problem"
   ]
  },
  {
   "cell_type": "markdown",
   "metadata": {},
   "source": [
    "A Retail Store Chain wants to open up an outlet in Houston and wants to know which locations are food deserts in order to select the best location for their new retail outlets that helps to solve the problems of food deserts and also a location that has the best probability of success due to lack of competition."
   ]
  },
  {
   "cell_type": "markdown",
   "metadata": {},
   "source": [
    "# Description of Data and How it will be used to solve the problem"
   ]
  },
  {
   "cell_type": "markdown",
   "metadata": {},
   "source": [
    "Data will be sourced from;\n",
    "1.\t (http://www.houstontx.gov/planning/Demographics/demograph_docs/income_avgs.htm) which contains the list of neighbourhoods within Houston as well as their location relative to downtown, Texas totalling to 88 super neighbourhoods.\n",
    "2.\tGeocoder\n",
    "3.\tFoursquare API\n",
    "\n",
    "The Wikipedia webpage along with the information contained in the table will be scraped using BeautifulSoup and geographical coordinates such as latitude and longitude data will be found for each neighbourhood using a geocoder. Further data for each neighbourhood will be collected using the Foursquare API. The Foursquare API will allow for the gathering of venue data for each neighbourhood such as the frequency and occurrence of groceries stores each neighbourhood. Once the frequency of grocery stores are found in each Houston super neighbourhood using foursquare, the data will be combined with the location data of the neighbourhoods. After combining the two data sets it will be clustered and mapped using the merged data set. Lastly each cluster will be examined to determine the best location to place a new grocery store.\n",
    "\n",
    "Further data analysis on the clusters will be done using bar graphs to determine the best clusters to open a new grocery store. \n"
   ]
  }
 ],
 "metadata": {
  "kernelspec": {
   "display_name": "Python 3",
   "language": "python",
   "name": "python3"
  },
  "language_info": {
   "codemirror_mode": {
    "name": "ipython",
    "version": 3
   },
   "file_extension": ".py",
   "mimetype": "text/x-python",
   "name": "python",
   "nbconvert_exporter": "python",
   "pygments_lexer": "ipython3",
   "version": "3.7.6"
  }
 },
 "nbformat": 4,
 "nbformat_minor": 4
}
